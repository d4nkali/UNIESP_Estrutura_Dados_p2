{
  "nbformat": 4,
  "nbformat_minor": 0,
  "metadata": {
    "colab": {
      "provenance": []
    },
    "kernelspec": {
      "name": "python3",
      "display_name": "Python 3"
    },
    "language_info": {
      "name": "python"
    }
  },
  "cells": [
    {
      "cell_type": "markdown",
      "source": [
        "# Estruturas de dados"
      ],
      "metadata": {
        "id": "z--EsPkw1dTC"
      }
    },
    {
      "cell_type": "markdown",
      "source": [
        "## Ordenação"
      ],
      "metadata": {
        "id": "Be3qEiMzMlqk"
      }
    },
    {
      "cell_type": "code",
      "execution_count": null,
      "metadata": {
        "id": "WY-8xMue0WOF"
      },
      "outputs": [],
      "source": [
        "def bubble_sort(vetor):\n",
        "  n=len(vetor)\n",
        "  for i in range(n):\n",
        "    for j in range(0,n-i-1):\n",
        "      if vetor[j]>vetor[j+1]:\n",
        "        aux=vetor[j]\n",
        "        vetor[j]=vetor[j+1]\n",
        "        vetor[j+1]=aux\n",
        "  return (vetor)\n",
        "\n",
        "def select_sort(vetor):\n",
        "  n=len(vetor)\n",
        "  for i in range(n):\n",
        "    id_min=i\n",
        "    for j in range(i+1,n):\n",
        "      if vetor[id_min]>vetor[j]:\n",
        "        id_min=j\n",
        "    aux=vetor[i]\n",
        "    vetor[i]=vetor[id_min]\n",
        "    vetor[id_min]=aux\n",
        "  return (vetor)\n",
        "\n",
        "def quick_sort(arr):\n",
        "    if len(arr) <= 1:\n",
        "        return arr\n",
        "    pivot = arr[len(arr) // 2]\n",
        "    left = [x for x in arr if x < pivot]\n",
        "    middle = [x for x in arr if x == pivot]\n",
        "    right = [x for x in arr if x > pivot]\n",
        "    return quick_sort(left) + middle + quick_sort(right)"
      ]
    },
    {
      "cell_type": "markdown",
      "source": [
        "## Fila"
      ],
      "metadata": {
        "id": "mUTwuHKpMoq8"
      }
    },
    {
      "cell_type": "code",
      "source": [
        "import numpy as np\n",
        "\n",
        "class fila:\n",
        "    def __init__(self, capacidade):\n",
        "        self.capacidade = capacidade\n",
        "        self.inicio = 0\n",
        "        self.final = -1\n",
        "        self.numero_elementos = 0\n",
        "        self.valores = np.empty(self.capacidade, dtype=int)\n",
        "\n",
        "    def fila_vazia(self):\n",
        "        return self.numero_elementos == 0\n",
        "\n",
        "    def fila_cheia(self):\n",
        "        return self.numero_elementos == self.capacidade\n",
        "\n",
        "    def enfileirar(self, valor):\n",
        "        if self.fila_cheia():\n",
        "            print('A fila está cheia')\n",
        "            return\n",
        "        if self.final == self.capacidade - 1:\n",
        "            self.final = -1\n",
        "        self.final += 1\n",
        "        self.valores[self.final] = valor\n",
        "        self.numero_elementos += 1\n",
        "\n",
        "    def desenfileirar(self):\n",
        "        if self.fila_vazia():\n",
        "            print('A fila já está vazia')\n",
        "            return\n",
        "        temp = self.valores[self.inicio]\n",
        "        self.inicio += 1\n",
        "        if self.inicio == self.capacidade - 1:\n",
        "            self.inicio = 0\n",
        "        else:\n",
        "            self.numero_elementos -= 1\n",
        "            return temp\n",
        "\n",
        "    def primeiro(self):\n",
        "        if self.fila_vazia():\n",
        "            return -1\n",
        "        else:\n",
        "            return self.valores[self.inicio]\n",
        "\n",
        "    def visualizar(self):\n",
        "      print('Tamanho da Fila..: ', self.capacidade)\n",
        "      print('Início da fila...: ', self.inicio)\n",
        "      print('Final da fila....: ', self.final)\n",
        "      print('Variável Nu. El..:', self.numero_elementos)\n",
        "\n",
        "    def listageral(self):\n",
        "      for i in range(self.capacidade):\n",
        "        print(self.valores[i], end=' ')"
      ],
      "metadata": {
        "id": "P6wp-ik10pK6"
      },
      "execution_count": null,
      "outputs": []
    },
    {
      "cell_type": "markdown",
      "source": [
        "## Pilha"
      ],
      "metadata": {
        "id": "Z6NXcod3MqpM"
      }
    },
    {
      "cell_type": "code",
      "source": [
        "class Pilha:\n",
        "\n",
        "    def __init__(self):\n",
        "        self.items = []\n",
        "\n",
        "    def empilhar(self, item):\n",
        "        self.items = self.items + [item]\n",
        "\n",
        "    def desempilhar(self):\n",
        "        if not self.is_vazia():\n",
        "            item_removido = self.items[-1]\n",
        "            self.items = self.items[:-1]\n",
        "            return item_removido\n",
        "        else:\n",
        "            print(\"A pilha está vazia. Não é possível desempilhar.\")\n",
        "\n",
        "    def topo(self):\n",
        "        if not self.is_vazia():\n",
        "            return self.items[-1]\n",
        "        else:\n",
        "            print(\"A pilha está vazia. Não há topo para visualizar.\")\n",
        "\n",
        "    def is_vazia(self):\n",
        "        return len(self.items) == 0\n",
        "\n",
        "    def tamanho(self):\n",
        "        return len(self.items)\n",
        "\n",
        "    def imprimir(self):\n",
        "        if not self.is_vazia():\n",
        "            print(\"Itens da pilha:\")\n",
        "            for item in self.items:\n",
        "                print(item)\n",
        "        else:\n",
        "            print(\"A pilha está vazia. Não há itens para imprimir.\")"
      ],
      "metadata": {
        "id": "ELWJwBqt1Sxo"
      },
      "execution_count": null,
      "outputs": []
    },
    {
      "cell_type": "markdown",
      "source": [
        "## Lista"
      ],
      "metadata": {
        "id": "OseIm9CLMsgk"
      }
    },
    {
      "cell_type": "code",
      "source": [
        "import numpy as np\n",
        "\n",
        "class Listasequencial:\n",
        "\n",
        "    def __init__(self, capacidade):\n",
        "        self.capacidade = capacidade\n",
        "        self.ultima_posicao = -1\n",
        "        self.valores = np.empty(self.capacidade, dtype=int)\n",
        "\n",
        "    def imprime(self):\n",
        "        if self.ultima_posicao == -1:\n",
        "            print('O vetor está vazio')\n",
        "        else:\n",
        "            for i in range(self.ultima_posicao + 1):\n",
        "                print(i, ' - ', self.valores[i])\n",
        "\n",
        "    def insere(self, valor):\n",
        "        if self.ultima_posicao == self.capacidade - 1:\n",
        "            print('Capacidade máxima atingida')\n",
        "        else:\n",
        "            self.ultima_posicao += 1\n",
        "            self.valores[self.ultima_posicao] = valor\n",
        "\n",
        "    def pesquisar(self, valor):\n",
        "        for i in range(self.ultima_posicao + 1):\n",
        "            if (valor==self.valores[i]):\n",
        "                return i\n",
        "        return -1\n",
        "\n",
        "    def excluir(self, valor):\n",
        "        posicao = self.pesquisar(valor)\n",
        "        if posicao == -1:\n",
        "            return -1\n",
        "        else:\n",
        "            for i in range(posicao, self.ultima_posicao):\n",
        "                self.valores[i] = self.valores[i + 1]\n",
        "        self.ultima_posicao -= 1"
      ],
      "metadata": {
        "id": "v3v1_pEV1bDy"
      },
      "execution_count": null,
      "outputs": []
    },
    {
      "cell_type": "markdown",
      "source": [
        "## Exemplo para calcular o tempo de execução"
      ],
      "metadata": {
        "id": "hJjrhHn029gJ"
      }
    },
    {
      "cell_type": "code",
      "source": [
        "import time\n",
        "import random\n",
        "\n",
        "vetor = [random.randint(1, 100) for _ in range(100)]\n",
        "\n",
        "# Tempo de Execução Bubble Sort\n",
        "inicio = time.time()\n",
        "resultado = bubble_sort(vetor)\n",
        "fim = time.time()\n",
        "tempo_execucao = fim - inicio\n",
        "print(tempo_execucao)"
      ],
      "metadata": {
        "id": "5sKYaHHz0kC5"
      },
      "execution_count": null,
      "outputs": []
    },
    {
      "cell_type": "markdown",
      "source": [
        "## Importando dados do GitHub"
      ],
      "metadata": {
        "id": "rXEIsmwQ33jO"
      }
    },
    {
      "cell_type": "code",
      "source": [
        "import pandas as pd\n",
        "\n",
        "# URL do arquivo csv no GitHub\n",
        "\n",
        "url = 'https://raw.githubusercontent.com/nisston/disciplinaestruturadedados/main/data_temp.csv'\n",
        "\n",
        "# Ler o arquivo XLSX usando pandas\n",
        "df1 = pd.read_csv(url)\n",
        "\n",
        "# Exibir os dados do arquivo XLSX\n",
        "df1.info()"
      ],
      "metadata": {
        "id": "XqgwKW0T3FXW"
      },
      "execution_count": null,
      "outputs": []
    },
    {
      "cell_type": "code",
      "source": [
        "# Convertendo para uma lista\n",
        "lista11 = df1['Temperature'].to_list()\n",
        "lista11"
      ],
      "metadata": {
        "id": "V2shrLpaMy7t"
      },
      "execution_count": null,
      "outputs": []
    },
    {
      "cell_type": "markdown",
      "source": [
        "# Questões"
      ],
      "metadata": {
        "id": "V6r1nw-d1iyx"
      }
    },
    {
      "cell_type": "markdown",
      "source": [
        "## 01 - Após carregar a base de dados, classifique a temperatura utilizando o método bubble_sort e depois apresente as 15 primeiras temperaturas mais altas.\n"
      ],
      "metadata": {
        "id": "S7uoTBEe1lGp"
      }
    },
    {
      "cell_type": "code",
      "source": [
        "# Informe o seu código aqui"
      ],
      "metadata": {
        "id": "LISmbDaQ9e9B"
      },
      "execution_count": null,
      "outputs": []
    },
    {
      "cell_type": "markdown",
      "source": [
        "## 02 - Após carregar a base de dados, classifique a temperatura utilizando o método quick sort e depois apresente as 20 primeiras temperaturas mais baixa.\n"
      ],
      "metadata": {
        "id": "UKFsYrgS9_Wd"
      }
    },
    {
      "cell_type": "code",
      "source": [
        "# Informe o seu código aqui"
      ],
      "metadata": {
        "id": "jc7sTbYD9_We"
      },
      "execution_count": null,
      "outputs": []
    },
    {
      "cell_type": "markdown",
      "source": [
        "## 03 - Após carregar a base de dados, classifique a temperatura utilizando o método select sort e depois apresente a soma das 10 primeiras temperaturas mais altas.\n"
      ],
      "metadata": {
        "id": "RU_4clsJ9_oy"
      }
    },
    {
      "cell_type": "code",
      "source": [
        "# Informe o seu código aqui"
      ],
      "metadata": {
        "id": "wrtAoZ6Q9_oz"
      },
      "execution_count": null,
      "outputs": []
    },
    {
      "cell_type": "markdown",
      "source": [
        "## 04 - Após carregar a base de dados, qual dos métodos de classifição (bubble_sort, select_sort e quick_sort) é o mais eficiente?\n"
      ],
      "metadata": {
        "id": "V3iLQxf2-T2M"
      }
    },
    {
      "cell_type": "code",
      "source": [
        "# Informe o seu código aqui"
      ],
      "metadata": {
        "id": "HkdCFYt4-T2M"
      },
      "execution_count": null,
      "outputs": []
    },
    {
      "cell_type": "markdown",
      "source": [
        "## 05 - Após carregar a base de dados, classifique os dados com o método  quick_sort, em seguida construa umna estrutura de fila e adicione os 500 primeiros registros (enfileirar), após isso, desenfileire 100 e responda qual é o primeiro da fila?\n"
      ],
      "metadata": {
        "id": "T7JjwgdM-ye1"
      }
    },
    {
      "cell_type": "code",
      "source": [
        "# Informe o seu código aqui"
      ],
      "metadata": {
        "id": "3w97GbIX-ye2"
      },
      "execution_count": null,
      "outputs": []
    },
    {
      "cell_type": "markdown",
      "source": [
        "## 06 - Após carregar a base de dados, classifique os dados com o método select_sort, em seguida construa uma estrutura de pilha e adicione os 500 primeiros registros (empilhar), após isso, desempilhe os 50 e responda quem ficou no topo da pilha?"
      ],
      "metadata": {
        "id": "E5wsQGPc_vA8"
      }
    },
    {
      "cell_type": "code",
      "source": [
        "# Informe o seu código aqui"
      ],
      "metadata": {
        "id": "FHPizChg_JmC"
      },
      "execution_count": null,
      "outputs": []
    },
    {
      "cell_type": "markdown",
      "source": [
        "## 07 - Após carregar a base de dados, classifique os dados com o método  quick_sort, em seguida construa umna estrutura de fila e adicione os 100 primeiros registros (enfileirar), após isso, desenfileire 50 e responda ao que se pede:\n",
        "\n",
        "1.   Qual é o primeiro da fila?\n",
        "2.   Qual a soma dos 50 desenfileirados?\n",
        "3.   Qual a média dos desenfileirados?\n",
        "4.   Qual o maior valor dos desenfileirados?\n",
        "\n"
      ],
      "metadata": {
        "id": "NOFjsYuzAFlZ"
      }
    },
    {
      "cell_type": "code",
      "source": [
        "# Informe o seu código aqui"
      ],
      "metadata": {
        "id": "GERYxZmBADm7"
      },
      "execution_count": null,
      "outputs": []
    },
    {
      "cell_type": "markdown",
      "source": [
        "## 08 - Após carregar a base de dados, classifique os dados com o método  quick_sort, em seguida construa uma estrutura de fila e pilha, adicione os 1000 primeiros registros e responda qual das duas estruturas armazena mais rápido?"
      ],
      "metadata": {
        "id": "6Kdeh4fxLLUU"
      }
    },
    {
      "cell_type": "code",
      "source": [
        "# Informe o seu código aqui"
      ],
      "metadata": {
        "id": "aM6LPgCoMgV1"
      },
      "execution_count": null,
      "outputs": []
    },
    {
      "cell_type": "markdown",
      "source": [
        "## 09 - Após carregar a base de dados, construa uma estrutura de pilha e adicione os 1000 primeiros registros (empilhando), após isso, desenfileire 900 e responda ao que se pede:\n",
        "\n",
        "1.   Qual é o elemento do topo?\n",
        "2.   Qual a soma dos 50 elementos desempilhados?\n",
        "3.   Qual o tempo gasto para desempilhar?"
      ],
      "metadata": {
        "id": "hAj6k3fCLNJ7"
      }
    },
    {
      "cell_type": "code",
      "source": [
        "# Informe o seu código aqui"
      ],
      "metadata": {
        "id": "3iSmRqvDMhEc"
      },
      "execution_count": null,
      "outputs": []
    },
    {
      "cell_type": "markdown",
      "source": [
        "## 10 - Após carregar a base de dados, classifique os dados com o método  select_sort, em seguida construa uma estrutura de fila e adicione os 100 primeiros registros (enfileirar), após isso, desenfileire 50 e responda ao que se pede:"
      ],
      "metadata": {
        "id": "rpZuT1wjLOrb"
      }
    },
    {
      "cell_type": "code",
      "source": [
        "# Informe o seu código aqui"
      ],
      "metadata": {
        "id": "mGThAWb3Mh4E"
      },
      "execution_count": null,
      "outputs": []
    }
  ]
}