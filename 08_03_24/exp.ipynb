{
  "cells": [
    {
      "cell_type": "markdown",
      "metadata": {},
      "source": [
        "### Trabalhando com Pilha"
      ]
    },
    {
      "cell_type": "code",
      "execution_count": 21,
      "metadata": {
        "id": "yp-XALByFlDG"
      },
      "outputs": [],
      "source": [
        "class Pilha:\n",
        "\n",
        "    def __init__(self):\n",
        "        self.items = []\n",
        "\n",
        "    def empilhar(self, item):\n",
        "        self.items = self.items + [item]\n",
        "\n",
        "    def desempilhar(self):\n",
        "        if not self.is_vazia():\n",
        "            item_removido = self.items[-1]\n",
        "            self.items = self.items[:-1]\n",
        "            return item_removido\n",
        "        else:\n",
        "            print(\"A pilha está vazia. Não é possível desempilhar.\")\n",
        "\n",
        "    def topo(self):\n",
        "        if not self.is_vazia():\n",
        "            return self.items[-1]\n",
        "        else:\n",
        "            print(\"A pilha está vazia. Não há topo para visualizar.\")\n",
        "\n",
        "    def is_vazia(self):\n",
        "        return len(self.items) == 0\n",
        "\n",
        "    def tamanho(self):\n",
        "        return len(self.items)\n",
        "\n",
        "    def imprimir(self):\n",
        "        if not self.is_vazia():\n",
        "            print(\"Itens da pilha:\")\n",
        "            for item in self.items:\n",
        "                print(item)\n",
        "        else:\n",
        "            print(\"A pilha está vazia. Não há itens para imprimir.\")"
      ]
    },
    {
      "cell_type": "code",
      "execution_count": null,
      "metadata": {
        "colab": {
          "base_uri": "https://localhost:8080/"
        },
        "id": "qahyJ_Y5ObT3",
        "outputId": "eb863928-144d-4a93-d705-277a6418d185"
      },
      "outputs": [],
      "source": [
        "# Criando uma pilha e empilhando\n",
        "p1 = Pilha()\n",
        "\n",
        "p1.empilhar(8)\n",
        "p1.empilhar(6)\n",
        "p1.empilhar(7)\n",
        "p1.empilhar(2)\n",
        "p1.empilhar(1)\n",
        "p1.empilhar(4)\n",
        "\n",
        "p1.imprimir()"
      ]
    },
    {
      "cell_type": "code",
      "execution_count": null,
      "metadata": {
        "colab": {
          "base_uri": "https://localhost:8080/"
        },
        "id": "Yb75ZtcTv-k2",
        "outputId": "a323ade7-b75d-412e-cc09-45b71fe38bed"
      },
      "outputs": [],
      "source": [
        "# Criando uma pilha, empilhando e visualizando o topo da pilha\n",
        "p1 = Pilha()\n",
        "\n",
        "p1.empilhar(8)\n",
        "p1.empilhar(6)\n",
        "p1.empilhar(7)\n",
        "p1.empilhar(2)\n",
        "p1.empilhar(1)\n",
        "p1.empilhar(4)\n",
        "\n",
        "p1.topo()"
      ]
    },
    {
      "cell_type": "code",
      "execution_count": null,
      "metadata": {
        "colab": {
          "base_uri": "https://localhost:8080/"
        },
        "id": "QKlorxz4vxMK",
        "outputId": "58734c44-bc1e-4076-ed15-8ba5c5adac8f"
      },
      "outputs": [],
      "source": [
        "# Criando uma pilha, empilhando e desempoilhando dados\n",
        "p1 = Pilha()\n",
        "\n",
        "p1.empilhar(8)\n",
        "p1.empilhar(6)\n",
        "p1.empilhar(7)\n",
        "p1.empilhar(2)\n",
        "p1.empilhar(1)\n",
        "p1.empilhar(4)\n",
        "\n",
        "p1.desempilhar()\n",
        "\n",
        "p1.topo()"
      ]
    },
    {
      "cell_type": "code",
      "execution_count": null,
      "metadata": {
        "colab": {
          "base_uri": "https://localhost:8080/"
        },
        "id": "1XWP99RSvgF9",
        "outputId": "1e021c6b-e3f6-42ba-c371-6a3275addbf6"
      },
      "outputs": [],
      "source": [
        "# Tentando desempenhar uma pilha vazia\n",
        "p1 = Pilha()\n",
        "\n",
        "p1.empilhar(2)\n",
        "p1.empilhar(1)\n",
        "p1.empilhar(4)\n",
        "\n",
        "p1.desempilhar()\n",
        "p1.desempilhar()\n",
        "p1.desempilhar()\n",
        "p1.desempilhar()"
      ]
    },
    {
      "cell_type": "code",
      "execution_count": null,
      "metadata": {
        "colab": {
          "base_uri": "https://localhost:8080/"
        },
        "id": "omUl0hs-RUn5",
        "outputId": "9c9278a4-32dd-414a-92ff-289ae045b87f"
      },
      "outputs": [],
      "source": [
        "# Trabalhando com a identificação de uma expressão\n",
        "expressao = '(a+b)*(a+b)'\n",
        "for i in expressao:\n",
        "  print(i)"
      ]
    },
    {
      "cell_type": "code",
      "execution_count": null,
      "metadata": {
        "colab": {
          "base_uri": "https://localhost:8080/"
        },
        "id": "xzik4aMvYQJ4",
        "outputId": "198b84db-cff9-41ec-f722-ba2c714d7d64"
      },
      "outputs": [],
      "source": [
        "# Criando um contador\n",
        "expressao = '(a+b)*(a+b)'\n",
        "cp=0\n",
        "for i in expressao:\n",
        "  if i=='(' or i==')':\n",
        "    cp+=1\n",
        "if cp%2==0:\n",
        "  print('Expressão correta')\n",
        "else:\n",
        "  print('Expressão incorreta')"
      ]
    },
    {
      "cell_type": "code",
      "execution_count": null,
      "metadata": {
        "colab": {
          "base_uri": "https://localhost:8080/"
        },
        "id": "2ovmEqjIRcKp",
        "outputId": "4f1cd333-30a9-47ff-9857-35756a2d5d1e"
      },
      "outputs": [],
      "source": [
        "# Criando uma estrutura de pilha para\n",
        "p1 = Pilha()\n",
        "expressao = '(a+b))*(a+b)'\n",
        "for i in expressao:\n",
        "  if i=='(':\n",
        "    p1.empilhar(i)\n",
        "\n",
        "p1.imprimir()"
      ]
    },
    {
      "cell_type": "code",
      "execution_count": null,
      "metadata": {
        "id": "v2uQej22Sg5j"
      },
      "outputs": [],
      "source": [
        "p1 = Pilha()\n",
        "expressao = '(a+b)*(a+b))'\n",
        "for i in expressao:\n",
        "  if i=='(':\n",
        "    p1.empilhar(i)\n",
        "for i in expressao:\n",
        "  if not p1.is_vazia() and i==')':\n",
        "    p1.desempilhar()\n",
        "p1.imprimir()"
      ]
    },
    {
      "cell_type": "code",
      "execution_count": null,
      "metadata": {
        "id": "NngNcSf9UHik"
      },
      "outputs": [],
      "source": [
        "p1 = Pilha()\n",
        "expressao = '(a+b)*(a+b)'\n",
        "for i in expressao:\n",
        "  if i=='(' or i=='[' or i=='{':\n",
        "    p1.empilhar(i)\n",
        "  elif i==')' or i==']' or i=='}':\n",
        "    if not p1.is_vazia() and p1.topo()!='x':\n",
        "      p1.desempilhar()\n",
        "    else:\n",
        "      p1.empilhar('x')\n",
        "\n",
        "p1.imprimir()\n",
        "\n",
        "if (p1.is_vazia()):\n",
        "  print('Expressão Correta')\n",
        "else:\n",
        "  print('Expressão Incorreta')"
      ]
    },
    {
      "cell_type": "code",
      "execution_count": null,
      "metadata": {},
      "outputs": [],
      "source": [
        "p1 = Pilha()\n",
        "p2 = Pilha()\n",
        "expressao = '(a+b))*[[a+b]'\n",
        "for i in expressao:\n",
        "  if i=='(':\n",
        "    p1.empilhar(i)\n",
        "  elif i==')':\n",
        "    if not p1.is_vazia() and p1.topo()!='x':\n",
        "      p1.desempilhar()\n",
        "    else:\n",
        "      p1.empilhar('x')\n",
        "for i in expressao:\n",
        "  if i=='[':\n",
        "    p2.empilhar(i)\n",
        "  elif i==']':\n",
        "    if not p2.is_vazia() and p2.topo()!='x':\n",
        "      p2.desempilhar()\n",
        "    else:\n",
        "      p2.empilhar('x')\n",
        "p1.imprimir()\n",
        "p2.imprimir()"
      ]
    },
    {
      "cell_type": "code",
      "execution_count": 26,
      "metadata": {
        "id": "3GdFlCFdjBIo"
      },
      "outputs": [],
      "source": [
        "def verifica(expressao):\n",
        "  p1 = Pilha()\n",
        "  for i in expressao:\n",
        "    if i=='(' or i=='[' or i=='{':\n",
        "      p1.empilhar(i)\n",
        "    elif i==')'or i==']' or i=='}':\n",
        "      if not p1.is_vazia() and p1.topo()=='(':\n",
        "        p1.desempilhar()\n",
        "      else:\n",
        "        p1.empilhar('x')\n",
        "  if (p1.is_vazia()):\n",
        "    return 1\n",
        "  else:\n",
        "    return -1"
      ]
    },
    {
      "cell_type": "code",
      "execution_count": 27,
      "metadata": {
        "colab": {
          "base_uri": "https://localhost:8080/"
        },
        "id": "ddhRx4JOj24b",
        "outputId": "9592a8e2-53c2-4269-aaf7-f753f64fa1e9"
      },
      "outputs": [
        {
          "data": {
            "text/plain": [
              "1"
            ]
          },
          "execution_count": 27,
          "metadata": {},
          "output_type": "execute_result"
        }
      ],
      "source": [
        "expressao = '(a+b)*(a+b)'\n",
        "verifica(expressao)"
      ]
    },
    {
      "cell_type": "code",
      "execution_count": 28,
      "metadata": {
        "id": "uJ81wmn0ipbg"
      },
      "outputs": [
        {
          "name": "stdout",
          "output_type": "stream",
          "text": [
            "Expressão Incorreta -> (a+b)+((b)\n",
            "\n",
            "Expressão Correta -> (a+b)+(b*a)\n",
            "\n",
            "Expressão Incorreta -> ([a*b/(b-b)])\n",
            "\n",
            "Expressão Incorreta -> [q*1+{89-a]\n"
          ]
        }
      ],
      "source": [
        "arquivo = open(\"conjunto1.txt\", \"r\")\n",
        "linhas = arquivo.readlines()\n",
        "for linha in linhas:\n",
        "    print(\"Expressão Correta\" if verifica(linha) == 1 else \"Expressão Incorreta\", \"->\", linha)"
      ]
    }
  ],
  "metadata": {
    "colab": {
      "provenance": []
    },
    "kernelspec": {
      "display_name": "Python 3",
      "name": "python3"
    },
    "language_info": {
      "codemirror_mode": {
        "name": "ipython",
        "version": 3
      },
      "file_extension": ".py",
      "mimetype": "text/x-python",
      "name": "python",
      "nbconvert_exporter": "python",
      "pygments_lexer": "ipython3",
      "version": "3.9.13"
    }
  },
  "nbformat": 4,
  "nbformat_minor": 0
}
