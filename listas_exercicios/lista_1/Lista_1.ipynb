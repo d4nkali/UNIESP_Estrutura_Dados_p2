{
  "cells": [
    {
      "cell_type": "markdown",
      "metadata": {},
      "source": [
        "Lista 1 de Estrutura de Dados | Aluno: Danilo Pereira Viana - P2-B"
      ]
    },
    {
      "cell_type": "code",
      "execution_count": null,
      "metadata": {
        "id": "WodCLR0bjaUF"
      },
      "outputs": [],
      "source": [
        "# Questão 1 - Faça um programa que calcule a média de três números inseridos pelo usuário.\n",
        "\n",
        "# Aluno: Danilo Pereira Viana - P2-B\n",
        "\n",
        "\n",
        "# Pergunta as notas e armazena em variaveis\n",
        "\n",
        "nota_1 = int(input(\"Digite a primeira nota: \"))\n",
        "nota_2 = int(input(\"Digite a segunda nota: \"))\n",
        "nota_3 = int(input(\"Digite a terceira nota: \"))\n",
        "\n",
        "# Soma as tres notas, divide pro tres e armazena em uma variavel\n",
        "nota_f = (nota_1 + nota_2 + nota_3) / 3\n",
        "\n",
        "print(f\"A media foi de {nota_f:.1f}\") # Imprime a nota final\n",
        "\n",
        "# FIM!"
      ]
    },
    {
      "cell_type": "code",
      "execution_count": null,
      "metadata": {
        "id": "DEiyLLRFj1XQ"
      },
      "outputs": [],
      "source": [
        "# Questão 2 - Crie um programa que determine se um número inserido pelo usuário é par ou ímpar.\n",
        "\n",
        "# Aluno: Danilo Pereira Viana - P2-B\n",
        "\n",
        "\n",
        "# Pergunta para o usuário digitar um número e armazena em uma variavel 'numero'\n",
        "numero = int(input(\"Digite um número: \"))\n",
        "\n",
        "if numero % 2 == 0: # Se o número for dividido por 2 e o resto igual a zero, então:\n",
        "\n",
        "    print(f\"{numero} é um número par.\") # Imprime que o número e informa que ele é par\n",
        "\n",
        "else: # Senão:\n",
        "\n",
        "    print(f\"{numero} é um número ímpar.\") # Imprime que o número e informa que ele é impar\n",
        "\n",
        "# FIM!"
      ]
    },
    {
      "cell_type": "code",
      "execution_count": null,
      "metadata": {
        "id": "pKnb7vkDj7Vw"
      },
      "outputs": [],
      "source": [
        "# Questão 3 - Escreva um programa que solicite um número ao usuário e imprima todos os números pares de 0 até esse número.\n",
        "\n",
        "# Aluno: Danilo Pereira Viana - P2-B\n",
        "\n",
        "\n",
        "# Pergunta para o usuário digitar um número e armazena em uma variavel 'numero'\n",
        "numero = int(input(\"Digite um numero: \"))\n",
        "\n",
        "# Imprime que ira exebir os números pares de 0 até o que o do usúario digitou\n",
        "print(f\"Numeros pares de 0 até {numero}:\")\n",
        "\n",
        "# Cria um loop for que intera os numeros de 0 até o que o do usúario digitou em 'numero'\n",
        "for numero in range(numero + 1):\n",
        "\n",
        "    if numero % 2 == 0: # Se o número for dividido por 2 e o resto igual a zero, então:\n",
        "\n",
        "        print(numero) # Imprime esse numero\n",
        "\n",
        "# FIM!"
      ]
    },
    {
      "cell_type": "code",
      "execution_count": null,
      "metadata": {
        "id": "XKoD9yohkBnZ"
      },
      "outputs": [],
      "source": [
        "# Questão 4 - Crie um programa que leia uma lista de números e exiba o maior e o menor valor da lista.\n",
        "\n",
        "# Aluno: Danilo Pereira Viana - P2-B\n",
        "\n",
        "\n",
        "# Importando a biblioteca random\n",
        "from random import randint\n",
        "\n",
        "# Criando uma lista vazia\n",
        "list_numero = []\n",
        "\n",
        "# Cria um loop com o for 10 vezes\n",
        "for i in range(10):\n",
        "\n",
        "    sorteio_numeros = randint(1, 100) # Escolhe um número entre 1 a 100 a armazena em 'sorteio_numeros'\n",
        "    list_numero.append(sorteio_numeros) # Adiciona o número de 'sorteio_numeros' e adiciona a lista\n",
        "\n",
        "# Compara e armazena o maior número da lista\n",
        "list_numero_maior = max(list_numero)\n",
        "# Compara e armazena o menor número da lista\n",
        "list_numero_menor = min(list_numero)\n",
        "\n",
        "# Imprimindo os resultados\n",
        "print(f\"A lista possui esses numeros: {list_numero}\")\n",
        "print(f\"O maior número da lista é: {list_numero_maior}\")\n",
        "print(f\"O menor número da lista é: {list_numero_menor}\")\n",
        "\n",
        "# FIM!"
      ]
    },
    {
      "cell_type": "code",
      "execution_count": null,
      "metadata": {
        "id": "X_as6HwYkMFS"
      },
      "outputs": [],
      "source": [
        "# Questão 5 - Faça um programa que leia uma lista de números e retorne a média dos números pares\n",
        "\n",
        "# Aluno: Danilo Pereira Viana - P2-B\n",
        "\n",
        "\n",
        "# Importando a biblioteca random\n",
        "from random import randint\n",
        "\n",
        "# Criando as listas\n",
        "list_numero = []\n",
        "list_numero_par = []\n",
        "# Variavel para contar a quantidade de números pares\n",
        "quant_par = 0\n",
        "\n",
        "# Cria um loop com o for 10 vezes\n",
        "for i in range(10):\n",
        "\n",
        "    sorteio_numeros = randint(1, 100) # Escolhe um número entre 1 a 100 a armazena em 'sorteio_numeros'\n",
        "    list_numero.append(sorteio_numeros) # Adiciona o número de 'sorteio_numeros' e adiciona a lista\n",
        "\n",
        "    if (sorteio_numeros % 2) == 0: # Se o número for par, então:\n",
        "\n",
        "        list_numero_par.append(sorteio_numeros) # Adiciona o número a lista de pares\n",
        "        quant_par += 1 # Adiciona + 1 a contagem de números pares\n",
        "\n",
        "\n",
        "if quant_par >= 0: # Se tiver mais de um numero par, então:\n",
        "\n",
        "    media_numero_par = sum(list_numero_par) / quant_par # Soma os números da lista, divide pela quantidade de numeros pares e armazena em uma variavel\n",
        "\n",
        "else: # Senão:\n",
        "\n",
        "    media_numero_par = 0 # Define a media de números pares para 0\n",
        "\n",
        "\n",
        "# Imprimindo os resultados\n",
        "print(f\"A lista possui esses numeros: {list_numero}\")\n",
        "print(f\"Dentre eles, existem {quant_par} números pares: {list_numero_par}\")\n",
        "print(f\"A media dos números pares da {media_numero_par:.1f}\")\n",
        "\n",
        "# FIM!"
      ]
    },
    {
      "cell_type": "code",
      "execution_count": null,
      "metadata": {
        "id": "dL0LCmj4kRkN"
      },
      "outputs": [],
      "source": [
        "# Questão 6 - Escreva um programa que peça um número inteiro positivo ao usuário e calcule o fatorial desse número.\n",
        "\n",
        "# Aluno: Danilo Pereira Viana - P2-B\n",
        "\n",
        "\n",
        "# Criando a variavel do fatorial\n",
        "fatorial = 1\n",
        "\n",
        "# Pergunta para o usuário digitar um número inteiro positivo e armazena em uma variavel 'numero'\n",
        "numero = int(input(\"Digite um número inteiro positivo: \"))\n",
        "\n",
        "if numero == 0 or numero == 1: # Se o numero for 0 ou 1, então\n",
        "\n",
        "    fatorial = 1 # Define o fatorial como 1\n",
        "\n",
        "else: # Senão\n",
        "\n",
        "    # Cria um loop com for onde irá calcular o fatorial e armazenar na variavel 'fatorial'\n",
        "    for calc in range(1, numero + 1):\n",
        "\n",
        "        fatorial *= calc\n",
        "\n",
        "# Imprime o resultado\n",
        "print(f'O fatorial de {numero} é: {fatorial}')\n",
        "\n",
        "# FIM!"
      ]
    },
    {
      "cell_type": "code",
      "execution_count": null,
      "metadata": {
        "id": "B6K0h2XmkWjt"
      },
      "outputs": [],
      "source": [
        "# Questão 7 - Crie um programa que imprima a sequência de Fibonacci até um valor inserido pelo usuário.\n",
        "\n",
        "# Aluno: Danilo Pereira Viana - P2-B\n",
        "\n",
        "\n",
        "# Pergunta para o usuário digitar um número inteiro positivo e armazena em uma variavel 'numero'\n",
        "numero = int(input(\"Digite um número limite para a sequência de Fibonacci: \"))\n",
        "list_fib = [0, 1] # Cria uma lista\n",
        "\n",
        "while list_fib[-1] + list_fib[-2] <= numero: # Ira ficar repetindo até chegar ou ultrapassar 'numero'\n",
        "\n",
        "    result = list_fib[-1] + list_fib[-2] # Fará a logica da sequencia e armazenar o resultado em 'result'\n",
        "    list_fib.append(result) # Adiciona o número a lista\n",
        "\n",
        "# Imprime os resultados\n",
        "print(f\"Resultado da Sequência de Fibonacci até o número {numero}: {list_fib}\")\n",
        "\n",
        "# FIM!"
      ]
    },
    {
      "cell_type": "code",
      "execution_count": null,
      "metadata": {
        "id": "JXn1_aEEkmdP"
      },
      "outputs": [],
      "source": [
        "# Questão 8 - Faça um programa que determine se um número é primo ou não.\n",
        "\n",
        "# Aluno: Danilo Pereira Viana - P2-B\n",
        "\n",
        "\n",
        "# Pergunta para o usuário digitar um número inteiro positivo e armazena em uma variavel 'numero'\n",
        "numero = int(input(\"Digite um número inteiro positivo para descobrir se ele é Primo ou não: \"))\n",
        "\n",
        "if numero > 1: # Se 'numero' for maior que 1, então:\n",
        "\n",
        "    for calc in range(2, numero): # Verifica se o número é primo\n",
        "\n",
        "        if numero % calc == 0: # Se o 'numero' for dividido por 'calc' e o resto for igual a zero, então:\n",
        "\n",
        "            print(f\"O número {numero} não é primo\") # Imprime que não é primo\n",
        "            break # Encerra o programa\n",
        "\n",
        "    else: # Senão:\n",
        "\n",
        "        print(f\"O número {numero} é primo\") # Imprime que é primo\n",
        "\n",
        "# FIM!"
      ]
    },
    {
      "cell_type": "code",
      "execution_count": null,
      "metadata": {
        "id": "_P8pcEw_kuCo"
      },
      "outputs": [],
      "source": [
        "# Questão 9 - Escreva um programa que leia uma lista de nomes e retorne uma nova lista com apenas os nomes que começam com a letra 'A.\n",
        "\n",
        "# Aluno: Danilo Pereira Viana - P2-B\n",
        "\n",
        "\n",
        "# Pergunta para o usuário digitar varios nomes e armazena em uma lista\n",
        "list_nomes = input(\"Digite os nomes separados por espaço: \").split()\n",
        "\n",
        "# Filtra os nomes que começam com 'A'\n",
        "list_nomes_a = [nome for nome in list_nomes if nome.startswith('A')]\n",
        "\n",
        "if list_nomes_a: # Se tiver nomes na lista de nomes que começa com 'A'\n",
        "\n",
        "    # Imprime a lista com nomes que começam com 'A'\n",
        "    print(f\"Nomes que começam com a letra 'A': {list_nomes_a}\")\n",
        "\n",
        "else:\n",
        "\n",
        "    print(\"Nenhum nome encontrado que comece com a letra 'A'\")\n",
        "\n",
        "#FIM !"
      ]
    },
    {
      "cell_type": "code",
      "execution_count": null,
      "metadata": {
        "id": "-nGdHnT3kw3h"
      },
      "outputs": [],
      "source": [
        "# Questão 10 - Crie um programa que simule o jogo \"Pedra, Papel e Tesoura\" entre o usuário e o computador.\n",
        "# O programa deve solicitar a escolha do usuário e, em seguida, escolher aleatoriamente a escolha do\n",
        "# computador e determinar o vencedor\n",
        "\n",
        "# Aluno: Danilo Pereira Viana - P2-B\n",
        "\n",
        "\n",
        "# Importando biblioteca random\n",
        "from random import choice\n",
        "\n",
        "# Imprime uma mensagem de boas vindas\n",
        "print(\"Olá :), Bem-vindo ao Jogo Pedra, Papel e Tesoura! (Jokenpo)\")\n",
        "\n",
        "# Cria uma lista com as opções de jogadas\n",
        "list_acoes = ['Pedra', 'Papel', 'Tesoura']\n",
        "\n",
        "# Pergunta para o usuario qual ação ele ira realizar e armazena em uma variavel com a formatação correta\n",
        "acao_user = input(\"Escolha: Pedra, Papel ou Tesoura? \").capitalize()\n",
        "\n",
        "\n",
        "if acao_user not in list_acoes: # Se o usuario digitar errado, então:\n",
        "\n",
        "    print(\"Escolha inválida. Tente novamente.\") # Imprime que esta errado\n",
        "\n",
        "else: # Se respondeu certo:\n",
        "\n",
        "    acao_cpu = choice(list_acoes) # O computador escolhe uma das ações atravez do choise\n",
        "\n",
        "    print(f\"\\nVocê escolheu: {acao_user}\") # Imprime qual foi minha ação\n",
        "    print(f\"O computador escolheu: {acao_cpu}\") # Imprime qual foi a ação escolhida pelo computador\n",
        "\n",
        "    if acao_user == acao_cpu: # Se os dois jogarem igual\n",
        "\n",
        "        print(\"Empate!\") # Imprime que empatou\n",
        "\n",
        "    # Se jogar a ação e ganhar:\n",
        "    elif (acao_user == 'Pedra' and acao_cpu == 'Tesoura') or \\\n",
        "         (acao_user == 'Papel' and acao_cpu == 'Pedra') or \\\n",
        "         (acao_user == 'Tesoura' and acao_cpu == 'Papel'):\n",
        "\n",
        "        print(\"Você venceu!\") # Imprime que o usuario venceu\n",
        "\n",
        "    else: # Senão:\n",
        "\n",
        "        print(\"Você perdeu!\") # Imprime que o usuario perdeu\n",
        "\n",
        "# FIM!"
      ]
    }
  ],
  "metadata": {
    "colab": {
      "provenance": []
    },
    "kernelspec": {
      "display_name": "Python 3",
      "name": "python3"
    },
    "language_info": {
      "name": "python"
    }
  },
  "nbformat": 4,
  "nbformat_minor": 0
}
