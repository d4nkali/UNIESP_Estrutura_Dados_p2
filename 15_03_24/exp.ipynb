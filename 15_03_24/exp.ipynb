{
  "cells": [
    {
      "cell_type": "code",
      "execution_count": 4,
      "metadata": {
        "id": "Qra5Va6GAqPm"
      },
      "outputs": [],
      "source": [
        "import numpy as np\n",
        "\n",
        "class fila:\n",
        "    def __init__(self, capacidade):\n",
        "        self.capacidade = capacidade\n",
        "        self.inicio = 0\n",
        "        self.final = -1\n",
        "        self.numero_elementos = 0\n",
        "        self.valores = np.empty(self.capacidade, dtype=int)\n",
        "\n",
        "    def fila_vazia(self):\n",
        "        return self.numero_elementos == 0\n",
        "\n",
        "    def fila_cheia(self):\n",
        "        return self.numero_elementos == self.capacidade\n",
        "\n",
        "    def enfileirar(self, valor):\n",
        "        if self.fila_cheia():\n",
        "            print('A fila está cheia')\n",
        "            return\n",
        "        if self.final == self.capacidade - 1:\n",
        "            self.final = -1\n",
        "        self.final += 1\n",
        "        self.valores[self.final] = valor\n",
        "        self.numero_elementos += 1\n",
        "\n",
        "    def desenfileirar(self):\n",
        "        if self.fila_vazia():\n",
        "            print('A fila já está vazia')\n",
        "            return\n",
        "        temp = self.valores[self.inicio]\n",
        "        self.inicio += 1\n",
        "        if self.inicio == self.capacidade - 1:\n",
        "            self.inicio = 0\n",
        "        else:\n",
        "            self.numero_elementos -= 1\n",
        "            return temp\n",
        "\n",
        "    def primeiro(self):\n",
        "        if self.fila_vazia():\n",
        "            return -1\n",
        "        else:\n",
        "            return self.valores[self.inicio]\n",
        "\n",
        "    def visualizar(self):\n",
        "      print('Tamanho da Fila..: ', self.capacidade)\n",
        "      print('Início da fila...: ', self.inicio)\n",
        "      print('Final da fila....: ', self.final)\n",
        "      print('Variável Nu. El..:', self.numero_elementos)\n",
        "\n",
        "    def listageral(self):\n",
        "      for i in range(self.capacidade):\n",
        "        print(self.valores[i], end=' ')"
      ]
    },
    {
      "cell_type": "code",
      "execution_count": 5,
      "metadata": {
        "colab": {
          "base_uri": "https://localhost:8080/"
        },
        "id": "Rx7EeWB8ArVv",
        "outputId": "f7bfdc73-cdd2-45fb-f52a-b84e2fbb55ed"
      },
      "outputs": [
        {
          "name": "stdout",
          "output_type": "stream",
          "text": [
            "A fila está cheia\n",
            "O primeiro da fila eh..:  9\n"
          ]
        }
      ],
      "source": [
        "fila1 = fila(3)\n",
        "fila1.enfileirar(9)\n",
        "fila1.enfileirar(8)\n",
        "fila1.enfileirar(2)\n",
        "fila1.enfileirar(1)\n",
        "\n",
        "print('O primeiro da fila eh..: ',fila1.primeiro())"
      ]
    },
    {
      "cell_type": "code",
      "execution_count": 6,
      "metadata": {
        "colab": {
          "base_uri": "https://localhost:8080/"
        },
        "id": "bi-BY1QKA9Nz",
        "outputId": "e23d9958-cdc6-4976-c0b8-05f02e1621e9"
      },
      "outputs": [
        {
          "name": "stdout",
          "output_type": "stream",
          "text": [
            "O primeiro da fila eh..:  2\n"
          ]
        }
      ],
      "source": [
        "fila1 = fila(6)\n",
        "fila1.enfileirar(9)\n",
        "fila1.enfileirar(8)\n",
        "fila1.enfileirar(2)\n",
        "fila1.enfileirar(1)\n",
        "fila1.enfileirar(34)\n",
        "fila1.enfileirar(12)\n",
        "\n",
        "fila1.desenfileirar()\n",
        "fila1.desenfileirar()\n",
        "\n",
        "print('O primeiro da fila eh..: ',fila1.primeiro())"
      ]
    },
    {
      "cell_type": "code",
      "execution_count": null,
      "metadata": {
        "colab": {
          "base_uri": "https://localhost:8080/"
        },
        "id": "5slkTY8zBfE4",
        "outputId": "7b3ca7a8-0faf-417b-cc61-2a9fb7b946ff"
      },
      "outputs": [
        {
          "name": "stdout",
          "output_type": "stream",
          "text": [
            "O primeiro da fila eh..:  85\n",
            "Tamanho da Fila..:  5\n",
            "Início da fila...:  0\n",
            "Final da fila....:  4\n",
            "Variável Nu. El..: 5\n",
            "85 80 62 20 30 "
          ]
        }
      ],
      "source": [
        "# Construa uma solução para receber um vetor com a idade das pessoas e que esse vetor\n",
        "# com características de fila possa atender aos seguintes critérios:\n",
        "# 1. Idade igual ou acima de 80 tem prioridade\n",
        "# 2. Idadente entre 60 e 80 tem prioridade secundária\n",
        "# 3. Idadente abaixo de 60 não tem prioridade\n",
        "\n",
        "\n",
        "pessoas=[20,30,85,62,80]\n",
        "fila1 = fila(5)\n",
        "\n",
        "for i in pessoas:\n",
        "    if i>=80:\n",
        "        fila1.enfileirar(i)\n",
        "\n",
        "for i in pessoas:\n",
        "    if (60<=i<80):\n",
        "        fila1.enfileirar(i)\n",
        "\n",
        "for i in pessoas:\n",
        "    if (i<60):\n",
        "        fila1.enfileirar(i)\n",
        "\n",
        "print('O primeiro da fila eh..: ',fila1.primeiro())\n",
        "\n",
        "fila1.visualizar()\n",
        "fila1.listageral()"
      ]
    },
    {
      "cell_type": "code",
      "execution_count": null,
      "metadata": {
        "id": "tSktEoi8_-V3"
      },
      "outputs": [],
      "source": [
        "import pandas as pd\n",
        "\n",
        "# URL do arquivo XLSX no GitHub\n",
        "url = 'https://github.com/nisston/disciplinaestruturadedados/blob/main/datatran2021_Completa.xlsx?raw=true'\n",
        "\n",
        "# Ler o arquivo XLSX usando pandas\n",
        "df1 = pd.read_excel(url)\n",
        "\n",
        "# Exibir os dados do arquivo XLSX\n",
        "print(df1)"
      ]
    },
    {
      "cell_type": "code",
      "execution_count": null,
      "metadata": {
        "colab": {
          "base_uri": "https://localhost:8080/"
        },
        "id": "U-bOvTK6DD3D",
        "outputId": "26731819-b9d6-4adb-a4db-e1c0cdd2d794"
      },
      "outputs": [
        {
          "name": "stdout",
          "output_type": "stream",
          "text": [
            "<class 'pandas.core.frame.DataFrame'>\n",
            "RangeIndex: 64539 entries, 0 to 64538\n",
            "Data columns (total 32 columns):\n",
            " #   Column                  Non-Null Count  Dtype         \n",
            "---  ------                  --------------  -----         \n",
            " 0   id                      64539 non-null  int64         \n",
            " 1   data_inversa            64539 non-null  datetime64[ns]\n",
            " 2   dia_semana              64539 non-null  object        \n",
            " 3   horario                 64539 non-null  object        \n",
            " 4   Hora                    64539 non-null  int64         \n",
            " 5   Turno                   64539 non-null  object        \n",
            " 6   uf                      64539 non-null  object        \n",
            " 7   br                      64372 non-null  float64       \n",
            " 8   km                      64372 non-null  float64       \n",
            " 9   municipio               64539 non-null  object        \n",
            " 10  causa_acidente          64539 non-null  object        \n",
            " 11  tipo_acidente           64539 non-null  object        \n",
            " 12  classificacao_acidente  64539 non-null  object        \n",
            " 13  fase_dia                64539 non-null  object        \n",
            " 14  sentido_via             64539 non-null  object        \n",
            " 15  condicao_metereologica  64539 non-null  object        \n",
            " 16  tipo_pista              64539 non-null  object        \n",
            " 17  tracado_via             64539 non-null  object        \n",
            " 18  uso_solo                64539 non-null  object        \n",
            " 19  pessoas                 64539 non-null  int64         \n",
            " 20  mortos                  64539 non-null  int64         \n",
            " 21  feridos_leves           64539 non-null  int64         \n",
            " 22  feridos_graves          64539 non-null  int64         \n",
            " 23  ilesos                  64539 non-null  int64         \n",
            " 24  ignorados               64539 non-null  int64         \n",
            " 25  feridos                 64539 non-null  int64         \n",
            " 26  veiculos                64539 non-null  int64         \n",
            " 27  latitude                64539 non-null  float64       \n",
            " 28  longitude               64539 non-null  float64       \n",
            " 29  regional                64539 non-null  object        \n",
            " 30  delegacia               64521 non-null  object        \n",
            " 31  uop                     64407 non-null  object        \n",
            "dtypes: datetime64[ns](1), float64(4), int64(10), object(17)\n",
            "memory usage: 15.8+ MB\n"
          ]
        }
      ],
      "source": [
        "df1.info()"
      ]
    },
    {
      "cell_type": "code",
      "execution_count": null,
      "metadata": {
        "id": "3-rx2rtkDQmu"
      },
      "outputs": [],
      "source": [
        "lista1 = df1 [\"causa_acidente\"].tolist()"
      ]
    },
    {
      "cell_type": "code",
      "execution_count": null,
      "metadata": {
        "id": "Jef6qkwPDmKt"
      },
      "outputs": [],
      "source": [
        "lista1 = list(set(lista1))\n",
        "lista1"
      ]
    },
    {
      "cell_type": "code",
      "execution_count": null,
      "metadata": {
        "id": "bB_XQjKyD9AP"
      },
      "outputs": [],
      "source": [
        "type(lista1)"
      ]
    },
    {
      "cell_type": "code",
      "execution_count": null,
      "metadata": {
        "id": "asXne9XsBlP_"
      },
      "outputs": [],
      "source": []
    }
  ],
  "metadata": {
    "colab": {
      "provenance": []
    },
    "kernelspec": {
      "display_name": "Python 3",
      "name": "python3"
    },
    "language_info": {
      "codemirror_mode": {
        "name": "ipython",
        "version": 3
      },
      "file_extension": ".py",
      "mimetype": "text/x-python",
      "name": "python",
      "nbconvert_exporter": "python",
      "pygments_lexer": "ipython3",
      "version": "3.11.6"
    }
  },
  "nbformat": 4,
  "nbformat_minor": 0
}
